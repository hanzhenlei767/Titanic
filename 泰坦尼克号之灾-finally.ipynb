{
 "cells": [
  {
   "cell_type": "markdown",
   "metadata": {},
   "source": [
    "# [定义目标](http://localhost:8888/notebooks/Data/My_Road/%E5%AE%9A%E4%B9%89%E7%9B%AE%E6%A0%87.ipynb)"
   ]
  },
  {
   "cell_type": "markdown",
   "metadata": {},
   "source": [
    "* [Titanic_RandomForest:0.83253](https://www.kaggle.com/csw4192/titanic-randomforest)"
   ]
  },
  {
   "cell_type": "markdown",
   "metadata": {},
   "source": [
    "# [数据获取](http://localhost:8888/notebooks/Data/My_Road/%E6%95%B0%E6%8D%AE%E8%8E%B7%E5%8F%96.ipynb)"
   ]
  },
  {
   "cell_type": "code",
   "execution_count": 1,
   "metadata": {},
   "outputs": [
    {
     "name": "stdout",
     "output_type": "stream",
     "text": [
      "['gender_submission.csv', 'test.csv', 'train.csv']\n"
     ]
    }
   ],
   "source": [
    "import numpy as np # linear algebra\n",
    "import pandas as pd # data processing, CSV file I/O (e.g. pd.read_csv)\n",
    "import matplotlib.pyplot as plt\n",
    "import seaborn as sns\n",
    "\n",
    "# Input data files are available in the \"../input/\" directory.\n",
    "import os\n",
    "print(os.listdir(\"data/\"))\n",
    "\n",
    "import warnings\n",
    "warnings.filterwarnings('ignore')"
   ]
  },
  {
   "cell_type": "markdown",
   "metadata": {},
   "source": [
    "* 这里是将所有训练集和测试集都输入进来做分析"
   ]
  },
  {
   "cell_type": "code",
   "execution_count": 2,
   "metadata": {},
   "outputs": [
    {
     "data": {
      "text/html": [
       "<div>\n",
       "<style scoped>\n",
       "    .dataframe tbody tr th:only-of-type {\n",
       "        vertical-align: middle;\n",
       "    }\n",
       "\n",
       "    .dataframe tbody tr th {\n",
       "        vertical-align: top;\n",
       "    }\n",
       "\n",
       "    .dataframe thead th {\n",
       "        text-align: right;\n",
       "    }\n",
       "</style>\n",
       "<table border=\"1\" class=\"dataframe\">\n",
       "  <thead>\n",
       "    <tr style=\"text-align: right;\">\n",
       "      <th></th>\n",
       "      <th>Age</th>\n",
       "      <th>Cabin</th>\n",
       "      <th>Embarked</th>\n",
       "      <th>Fare</th>\n",
       "      <th>Name</th>\n",
       "      <th>Parch</th>\n",
       "      <th>PassengerId</th>\n",
       "      <th>Pclass</th>\n",
       "      <th>Sex</th>\n",
       "      <th>SibSp</th>\n",
       "      <th>Survived</th>\n",
       "      <th>Ticket</th>\n",
       "    </tr>\n",
       "    <tr>\n",
       "      <th>PassengerId</th>\n",
       "      <th></th>\n",
       "      <th></th>\n",
       "      <th></th>\n",
       "      <th></th>\n",
       "      <th></th>\n",
       "      <th></th>\n",
       "      <th></th>\n",
       "      <th></th>\n",
       "      <th></th>\n",
       "      <th></th>\n",
       "      <th></th>\n",
       "      <th></th>\n",
       "    </tr>\n",
       "  </thead>\n",
       "  <tbody>\n",
       "    <tr>\n",
       "      <th>1</th>\n",
       "      <td>22.0</td>\n",
       "      <td>NaN</td>\n",
       "      <td>S</td>\n",
       "      <td>7.2500</td>\n",
       "      <td>Braund, Mr. Owen Harris</td>\n",
       "      <td>0</td>\n",
       "      <td>1</td>\n",
       "      <td>3</td>\n",
       "      <td>male</td>\n",
       "      <td>1</td>\n",
       "      <td>0.0</td>\n",
       "      <td>A/5 21171</td>\n",
       "    </tr>\n",
       "    <tr>\n",
       "      <th>2</th>\n",
       "      <td>38.0</td>\n",
       "      <td>C85</td>\n",
       "      <td>C</td>\n",
       "      <td>71.2833</td>\n",
       "      <td>Cumings, Mrs. John Bradley (Florence Briggs Th...</td>\n",
       "      <td>0</td>\n",
       "      <td>2</td>\n",
       "      <td>1</td>\n",
       "      <td>female</td>\n",
       "      <td>1</td>\n",
       "      <td>1.0</td>\n",
       "      <td>PC 17599</td>\n",
       "    </tr>\n",
       "    <tr>\n",
       "      <th>3</th>\n",
       "      <td>26.0</td>\n",
       "      <td>NaN</td>\n",
       "      <td>S</td>\n",
       "      <td>7.9250</td>\n",
       "      <td>Heikkinen, Miss. Laina</td>\n",
       "      <td>0</td>\n",
       "      <td>3</td>\n",
       "      <td>3</td>\n",
       "      <td>female</td>\n",
       "      <td>0</td>\n",
       "      <td>1.0</td>\n",
       "      <td>STON/O2. 3101282</td>\n",
       "    </tr>\n",
       "  </tbody>\n",
       "</table>\n",
       "</div>"
      ],
      "text/plain": [
       "              Age Cabin Embarked     Fare  \\\n",
       "PassengerId                                 \n",
       "1            22.0   NaN        S   7.2500   \n",
       "2            38.0   C85        C  71.2833   \n",
       "3            26.0   NaN        S   7.9250   \n",
       "\n",
       "                                                          Name  Parch  \\\n",
       "PassengerId                                                             \n",
       "1                                      Braund, Mr. Owen Harris      0   \n",
       "2            Cumings, Mrs. John Bradley (Florence Briggs Th...      0   \n",
       "3                                       Heikkinen, Miss. Laina      0   \n",
       "\n",
       "             PassengerId  Pclass     Sex  SibSp  Survived            Ticket  \n",
       "PassengerId                                                                  \n",
       "1                      1       3    male      1       0.0         A/5 21171  \n",
       "2                      2       1  female      1       1.0          PC 17599  \n",
       "3                      3       3  female      0       1.0  STON/O2. 3101282  "
      ]
     },
     "metadata": {},
     "output_type": "display_data"
    },
    {
     "name": "stdout",
     "output_type": "stream",
     "text": [
      "Dataset contains 1309 records, with 12 variables.\n",
      "Variables:['Age', 'Cabin', 'Embarked', 'Fare', 'Name', 'Parch', 'PassengerId', 'Pclass', 'Sex', 'SibSp', 'Survived', 'Ticket']\n"
     ]
    }
   ],
   "source": [
    "# Read datasets from csv\n",
    "df_train = pd.read_csv('data/train.csv')\n",
    "df_test = pd.read_csv('data/test.csv')\n",
    "\n",
    "# Merge the 2 dataframes for EDA and feature engineeraing\n",
    "full = pd.concat([df_train, df_test], axis = 0)\n",
    "\n",
    "# Set PassengerId as Index\n",
    "full.set_index('PassengerId', drop = False, inplace=True)\n",
    "train = full[:891]\n",
    "\n",
    "# Display Data\n",
    "display(full.head(3))\n",
    "print(f\"Dataset contains {full.shape[0]} records, with {full.shape[1]} variables.\")\n",
    "print(f\"Variables:{list(full.columns)}\")"
   ]
  },
  {
   "cell_type": "markdown",
   "metadata": {},
   "source": [
    "# [数据理解](http://localhost:8888/notebooks/Data/Python%E6%95%B0%E6%8D%AE%E5%88%86%E6%9E%90%E4%B8%8E%E6%8C%96%E6%8E%98%E5%AE%9E%E6%88%98/%E6%95%B0%E6%8D%AE%E6%8E%A2%E7%B4%A2.ipynb)"
   ]
  },
  {
   "cell_type": "markdown",
   "metadata": {},
   "source": [
    "* 缺失值查看"
   ]
  },
  {
   "cell_type": "code",
   "execution_count": 3,
   "metadata": {},
   "outputs": [
    {
     "data": {
      "text/plain": [
       "Age             263\n",
       "Cabin          1014\n",
       "Embarked          2\n",
       "Fare              1\n",
       "Name              0\n",
       "Parch             0\n",
       "PassengerId       0\n",
       "Pclass            0\n",
       "Sex               0\n",
       "SibSp             0\n",
       "Survived        418\n",
       "Ticket            0\n",
       "dtype: int64"
      ]
     },
     "metadata": {},
     "output_type": "display_data"
    }
   ],
   "source": [
    "# Identify Missing Values\n",
    "display(full.isnull().sum())"
   ]
  },
  {
   "cell_type": "markdown",
   "metadata": {},
   "source": [
    "* 查看分布"
   ]
  },
  {
   "cell_type": "code",
   "execution_count": 4,
   "metadata": {},
   "outputs": [
    {
     "data": {
      "text/html": [
       "<div>\n",
       "<style scoped>\n",
       "    .dataframe tbody tr th:only-of-type {\n",
       "        vertical-align: middle;\n",
       "    }\n",
       "\n",
       "    .dataframe tbody tr th {\n",
       "        vertical-align: top;\n",
       "    }\n",
       "\n",
       "    .dataframe thead th {\n",
       "        text-align: right;\n",
       "    }\n",
       "</style>\n",
       "<table border=\"1\" class=\"dataframe\">\n",
       "  <thead>\n",
       "    <tr style=\"text-align: right;\">\n",
       "      <th></th>\n",
       "      <th>Age</th>\n",
       "      <th>Cabin</th>\n",
       "      <th>Embarked</th>\n",
       "      <th>Fare</th>\n",
       "      <th>Name</th>\n",
       "      <th>Parch</th>\n",
       "      <th>PassengerId</th>\n",
       "      <th>Pclass</th>\n",
       "      <th>Sex</th>\n",
       "      <th>SibSp</th>\n",
       "      <th>Survived</th>\n",
       "      <th>Ticket</th>\n",
       "    </tr>\n",
       "  </thead>\n",
       "  <tbody>\n",
       "    <tr>\n",
       "      <th>count</th>\n",
       "      <td>1046.000000</td>\n",
       "      <td>295</td>\n",
       "      <td>1307</td>\n",
       "      <td>1308.000000</td>\n",
       "      <td>1309</td>\n",
       "      <td>1309.000000</td>\n",
       "      <td>1309.000000</td>\n",
       "      <td>1309.000000</td>\n",
       "      <td>1309</td>\n",
       "      <td>1309.000000</td>\n",
       "      <td>891.000000</td>\n",
       "      <td>1309</td>\n",
       "    </tr>\n",
       "    <tr>\n",
       "      <th>unique</th>\n",
       "      <td>NaN</td>\n",
       "      <td>186</td>\n",
       "      <td>3</td>\n",
       "      <td>NaN</td>\n",
       "      <td>1307</td>\n",
       "      <td>NaN</td>\n",
       "      <td>NaN</td>\n",
       "      <td>NaN</td>\n",
       "      <td>2</td>\n",
       "      <td>NaN</td>\n",
       "      <td>NaN</td>\n",
       "      <td>929</td>\n",
       "    </tr>\n",
       "    <tr>\n",
       "      <th>top</th>\n",
       "      <td>NaN</td>\n",
       "      <td>C23 C25 C27</td>\n",
       "      <td>S</td>\n",
       "      <td>NaN</td>\n",
       "      <td>Kelly, Mr. James</td>\n",
       "      <td>NaN</td>\n",
       "      <td>NaN</td>\n",
       "      <td>NaN</td>\n",
       "      <td>male</td>\n",
       "      <td>NaN</td>\n",
       "      <td>NaN</td>\n",
       "      <td>CA. 2343</td>\n",
       "    </tr>\n",
       "    <tr>\n",
       "      <th>freq</th>\n",
       "      <td>NaN</td>\n",
       "      <td>6</td>\n",
       "      <td>914</td>\n",
       "      <td>NaN</td>\n",
       "      <td>2</td>\n",
       "      <td>NaN</td>\n",
       "      <td>NaN</td>\n",
       "      <td>NaN</td>\n",
       "      <td>843</td>\n",
       "      <td>NaN</td>\n",
       "      <td>NaN</td>\n",
       "      <td>11</td>\n",
       "    </tr>\n",
       "    <tr>\n",
       "      <th>mean</th>\n",
       "      <td>29.881138</td>\n",
       "      <td>NaN</td>\n",
       "      <td>NaN</td>\n",
       "      <td>33.295479</td>\n",
       "      <td>NaN</td>\n",
       "      <td>0.385027</td>\n",
       "      <td>655.000000</td>\n",
       "      <td>2.294882</td>\n",
       "      <td>NaN</td>\n",
       "      <td>0.498854</td>\n",
       "      <td>0.383838</td>\n",
       "      <td>NaN</td>\n",
       "    </tr>\n",
       "    <tr>\n",
       "      <th>std</th>\n",
       "      <td>14.413493</td>\n",
       "      <td>NaN</td>\n",
       "      <td>NaN</td>\n",
       "      <td>51.758668</td>\n",
       "      <td>NaN</td>\n",
       "      <td>0.865560</td>\n",
       "      <td>378.020061</td>\n",
       "      <td>0.837836</td>\n",
       "      <td>NaN</td>\n",
       "      <td>1.041658</td>\n",
       "      <td>0.486592</td>\n",
       "      <td>NaN</td>\n",
       "    </tr>\n",
       "    <tr>\n",
       "      <th>min</th>\n",
       "      <td>0.170000</td>\n",
       "      <td>NaN</td>\n",
       "      <td>NaN</td>\n",
       "      <td>0.000000</td>\n",
       "      <td>NaN</td>\n",
       "      <td>0.000000</td>\n",
       "      <td>1.000000</td>\n",
       "      <td>1.000000</td>\n",
       "      <td>NaN</td>\n",
       "      <td>0.000000</td>\n",
       "      <td>0.000000</td>\n",
       "      <td>NaN</td>\n",
       "    </tr>\n",
       "    <tr>\n",
       "      <th>25%</th>\n",
       "      <td>21.000000</td>\n",
       "      <td>NaN</td>\n",
       "      <td>NaN</td>\n",
       "      <td>7.895800</td>\n",
       "      <td>NaN</td>\n",
       "      <td>0.000000</td>\n",
       "      <td>328.000000</td>\n",
       "      <td>2.000000</td>\n",
       "      <td>NaN</td>\n",
       "      <td>0.000000</td>\n",
       "      <td>0.000000</td>\n",
       "      <td>NaN</td>\n",
       "    </tr>\n",
       "    <tr>\n",
       "      <th>50%</th>\n",
       "      <td>28.000000</td>\n",
       "      <td>NaN</td>\n",
       "      <td>NaN</td>\n",
       "      <td>14.454200</td>\n",
       "      <td>NaN</td>\n",
       "      <td>0.000000</td>\n",
       "      <td>655.000000</td>\n",
       "      <td>3.000000</td>\n",
       "      <td>NaN</td>\n",
       "      <td>0.000000</td>\n",
       "      <td>0.000000</td>\n",
       "      <td>NaN</td>\n",
       "    </tr>\n",
       "    <tr>\n",
       "      <th>75%</th>\n",
       "      <td>39.000000</td>\n",
       "      <td>NaN</td>\n",
       "      <td>NaN</td>\n",
       "      <td>31.275000</td>\n",
       "      <td>NaN</td>\n",
       "      <td>0.000000</td>\n",
       "      <td>982.000000</td>\n",
       "      <td>3.000000</td>\n",
       "      <td>NaN</td>\n",
       "      <td>1.000000</td>\n",
       "      <td>1.000000</td>\n",
       "      <td>NaN</td>\n",
       "    </tr>\n",
       "    <tr>\n",
       "      <th>max</th>\n",
       "      <td>80.000000</td>\n",
       "      <td>NaN</td>\n",
       "      <td>NaN</td>\n",
       "      <td>512.329200</td>\n",
       "      <td>NaN</td>\n",
       "      <td>9.000000</td>\n",
       "      <td>1309.000000</td>\n",
       "      <td>3.000000</td>\n",
       "      <td>NaN</td>\n",
       "      <td>8.000000</td>\n",
       "      <td>1.000000</td>\n",
       "      <td>NaN</td>\n",
       "    </tr>\n",
       "  </tbody>\n",
       "</table>\n",
       "</div>"
      ],
      "text/plain": [
       "                Age        Cabin Embarked         Fare              Name  \\\n",
       "count   1046.000000          295     1307  1308.000000              1309   \n",
       "unique          NaN          186        3          NaN              1307   \n",
       "top             NaN  C23 C25 C27        S          NaN  Kelly, Mr. James   \n",
       "freq            NaN            6      914          NaN                 2   \n",
       "mean      29.881138          NaN      NaN    33.295479               NaN   \n",
       "std       14.413493          NaN      NaN    51.758668               NaN   \n",
       "min        0.170000          NaN      NaN     0.000000               NaN   \n",
       "25%       21.000000          NaN      NaN     7.895800               NaN   \n",
       "50%       28.000000          NaN      NaN    14.454200               NaN   \n",
       "75%       39.000000          NaN      NaN    31.275000               NaN   \n",
       "max       80.000000          NaN      NaN   512.329200               NaN   \n",
       "\n",
       "              Parch  PassengerId       Pclass   Sex        SibSp    Survived  \\\n",
       "count   1309.000000  1309.000000  1309.000000  1309  1309.000000  891.000000   \n",
       "unique          NaN          NaN          NaN     2          NaN         NaN   \n",
       "top             NaN          NaN          NaN  male          NaN         NaN   \n",
       "freq            NaN          NaN          NaN   843          NaN         NaN   \n",
       "mean       0.385027   655.000000     2.294882   NaN     0.498854    0.383838   \n",
       "std        0.865560   378.020061     0.837836   NaN     1.041658    0.486592   \n",
       "min        0.000000     1.000000     1.000000   NaN     0.000000    0.000000   \n",
       "25%        0.000000   328.000000     2.000000   NaN     0.000000    0.000000   \n",
       "50%        0.000000   655.000000     3.000000   NaN     0.000000    0.000000   \n",
       "75%        0.000000   982.000000     3.000000   NaN     1.000000    1.000000   \n",
       "max        9.000000  1309.000000     3.000000   NaN     8.000000    1.000000   \n",
       "\n",
       "          Ticket  \n",
       "count       1309  \n",
       "unique       929  \n",
       "top     CA. 2343  \n",
       "freq          11  \n",
       "mean         NaN  \n",
       "std          NaN  \n",
       "min          NaN  \n",
       "25%          NaN  \n",
       "50%          NaN  \n",
       "75%          NaN  \n",
       "max          NaN  "
      ]
     },
     "execution_count": 4,
     "metadata": {},
     "output_type": "execute_result"
    }
   ],
   "source": [
    "# Descriptive Statistics\n",
    "full.describe(include=\"all\")"
   ]
  },
  {
   "cell_type": "markdown",
   "metadata": {},
   "source": [
    "* 查看特定图例分布"
   ]
  },
  {
   "cell_type": "code",
   "execution_count": 5,
   "metadata": {},
   "outputs": [
    {
     "name": "stdout",
     "output_type": "stream",
     "text": [
      "survived: 38.38%\n"
     ]
    },
    {
     "data": {
      "image/png": "[encoded data removed]",
      "text/plain": [
       "<matplotlib.figure.Figure at 0xdac9f28>"
      ]
     },
     "metadata": {},
     "output_type": "display_data"
    }
   ],
   "source": [
    "# EDA - Distributions\n",
    "categorical_var = ['Pclass','Sex','SibSp','Parch','Embarked', 'Survived']\n",
    "continuous_var = ['Age','Fare']\n",
    "\n",
    "# Plot Categorical Var\n",
    "fig, axs = plt.subplots(4,3, figsize = (15,12))\n",
    "for i,key in enumerate(categorical_var):\n",
    "     sns.countplot(data = full, x = key, ax = axs[i//3,i%3], color='teal')\n",
    "\n",
    "# Plot Age\n",
    "plt.subplot2grid((4,3),(2,0),rowspan=1,colspan=3);\n",
    "plt.hist(full.Age[full.Age.isna()!=True], bins=range(0,80,1), color='slategrey' );\n",
    "plt.xlabel('Age');\n",
    "\n",
    "# Plot Fare\n",
    "plt.subplot2grid((4,3),(3,0),rowspan=1,colspan=3);\n",
    "plt.hist(full.Fare[full.Fare.isna()!=True], bins=100, color='slategrey');\n",
    "plt.xlabel('Fare');\n",
    "\n",
    "print(f\"survived: {full.Survived.mean()*100:.2f}%\")"
   ]
  },
  {
   "cell_type": "markdown",
   "metadata": {},
   "source": [
    "* EDA可视化:两两特征之间"
   ]
  },
  {
   "cell_type": "code",
   "execution_count": 6,
   "metadata": {},
   "outputs": [
    {
     "data": {
      "image/png": "[encoded data removed]",
      "text/plain": [
       "<matplotlib.figure.Figure at 0xdac9a20>"
      ]
     },
     "metadata": {},
     "output_type": "display_data"
    }
   ],
   "source": [
    "# Plot all categorical features with Survival rate\n",
    "f, axs = plt.subplots(3,5, sharey=True, figsize=(18,9))\n",
    "for i,key in enumerate(categorical_var[:-1]): # except feature Survived\n",
    "    sns.barplot(data = full, x= key, y='Survived', ax = axs[i%3, i//3], color='teal');\n",
    "    axs[i%3, i//3].axhline(y=0.3838, color='k', linestyle='--')\n",
    "\n",
    "# Plot Correlation\n",
    "corr = full.corr()\n",
    "plt.subplot2grid((3,5),(0,2),rowspan=3,colspan=3);\n",
    "cmap =sns.diverging_palette( 220 , 10 , as_cmap = True )\n",
    "sns.heatmap(corr, cmap = cmap,square=True, cbar_kws={ 'shrink' : .9 }, annot = True, annot_kws = { 'fontsize' : 12 });"
   ]
  },
  {
   "cell_type": "markdown",
   "metadata": {},
   "source": [
    "<font color=red>性别跟生存与否关联很大.\n",
    "舱位等级和票价也有强对应关系,估计是距离甲板近,因此距离救生船更方便.\n",
    "年龄和生存没有体现出相关性</font>"
   ]
  },
  {
   "cell_type": "code",
   "execution_count": 7,
   "metadata": {},
   "outputs": [
    {
     "data": {
      "image/png": "[encoded data removed]",
      "text/plain": [
       "<matplotlib.figure.Figure at 0xdac4a58>"
      ]
     },
     "metadata": {},
     "output_type": "display_data"
    }
   ],
   "source": [
    "# Plot number of survived passengers by PClass, Sex and Age\n",
    "facet = sns.FacetGrid(full, row = 'Pclass',col='Sex', hue = 'Survived', aspect=2)\n",
    "facet.map(plt.hist, 'Age', histtype='step', bins = np.arange(0,80,4))\n",
    "\n",
    "facet.add_legend();"
   ]
  },
  {
   "cell_type": "markdown",
   "metadata": {},
   "source": [
    "<font color=red>清楚地显示出“女性第一”模式。\n",
    "儿童生存优势似乎申请< 12岁。\n",
    "更高的存活率在1和2类。妇女和儿童在这些2类有一个更高的存活率(有些甚至年龄范围为100%),相比第三类(约有50%的几率)清楚地表明,“女性第一”的模式。\n",
    "儿童生存优势似乎申请< 12岁。\n",
    "更高的存活率在1和2类。妇女和儿童在这些2类有一个更高的存活率(有些甚至年龄范围为100%),相比第三类(约有50%的机会)<font>"
   ]
  },
  {
   "cell_type": "code",
   "execution_count": 8,
   "metadata": {},
   "outputs": [
    {
     "data": {
      "image/png": "[encoded data removed]",
      "text/plain": [
       "<matplotlib.figure.Figure at 0xdac1550>"
      ]
     },
     "metadata": {},
     "output_type": "display_data"
    }
   ],
   "source": [
    "# Create Age Quartiles\n",
    "full['Age_quartile'] = pd.qcut(full.Age,10)\n",
    "\n",
    "# Plot age quartiles by sex with survival rate\n",
    "plt.figure(figsize = (10,5))\n",
    "sns.barplot(data = full, x= 'Age_quartile', y='Survived', hue = 'Sex');\n",
    "plt.axhline(y=0.3838, color='k', linestyle='--')\n",
    "plt.xticks(rotation = 30);\n",
    "plt.title('Across All Classes');"
   ]
  },
  {
   "cell_type": "code",
   "execution_count": 9,
   "metadata": {},
   "outputs": [],
   "source": [
    "full['Child'] = (full['Age'] <= 14).astype(int)"
   ]
  },
  {
   "cell_type": "markdown",
   "metadata": {},
   "source": [
    "<font color=red>可以看出男孩的年龄界限应该在14岁以下作为依据<font>"
   ]
  },
  {
   "cell_type": "markdown",
   "metadata": {},
   "source": [
    "# [特征工程](http://localhost:8888/notebooks/Data/Python%E6%95%B0%E6%8D%AE%E5%88%86%E6%9E%90%E4%B8%8E%E6%8C%96%E6%8E%98%E5%AE%9E%E6%88%98/%E6%95%B0%E6%8D%AE%E9%A2%84%E5%A4%84%E7%90%86.ipynb)"
   ]
  },
  {
   "cell_type": "code",
   "execution_count": 10,
   "metadata": {},
   "outputs": [],
   "source": [
    "import re \n",
    "\n",
    "# function to parse surname of the passengers\n",
    "def parse_surname(s):\n",
    "    m = re.search('(\\w+),.*',s)\n",
    "    return m.group(1)"
   ]
  },
  {
   "cell_type": "markdown",
   "metadata": {},
   "source": [
    "* 将姓名和家人数量呼应了"
   ]
  },
  {
   "cell_type": "code",
   "execution_count": 11,
   "metadata": {},
   "outputs": [
    {
     "data": {
      "text/html": [
       "<div>\n",
       "<style scoped>\n",
       "    .dataframe tbody tr th:only-of-type {\n",
       "        vertical-align: middle;\n",
       "    }\n",
       "\n",
       "    .dataframe tbody tr th {\n",
       "        vertical-align: top;\n",
       "    }\n",
       "\n",
       "    .dataframe thead th {\n",
       "        text-align: right;\n",
       "    }\n",
       "</style>\n",
       "<table border=\"1\" class=\"dataframe\">\n",
       "  <thead>\n",
       "    <tr style=\"text-align: right;\">\n",
       "      <th></th>\n",
       "      <th>Age</th>\n",
       "      <th>Cabin</th>\n",
       "      <th>Embarked</th>\n",
       "      <th>Fare</th>\n",
       "      <th>Name</th>\n",
       "      <th>Parch</th>\n",
       "      <th>PassengerId</th>\n",
       "      <th>Pclass</th>\n",
       "      <th>Sex</th>\n",
       "      <th>SibSp</th>\n",
       "      <th>Survived</th>\n",
       "      <th>Ticket</th>\n",
       "      <th>Age_quartile</th>\n",
       "      <th>Child</th>\n",
       "    </tr>\n",
       "    <tr>\n",
       "      <th>PassengerId</th>\n",
       "      <th></th>\n",
       "      <th></th>\n",
       "      <th></th>\n",
       "      <th></th>\n",
       "      <th></th>\n",
       "      <th></th>\n",
       "      <th></th>\n",
       "      <th></th>\n",
       "      <th></th>\n",
       "      <th></th>\n",
       "      <th></th>\n",
       "      <th></th>\n",
       "      <th></th>\n",
       "      <th></th>\n",
       "    </tr>\n",
       "  </thead>\n",
       "  <tbody>\n",
       "    <tr>\n",
       "      <th>280</th>\n",
       "      <td>35.0</td>\n",
       "      <td>NaN</td>\n",
       "      <td>S</td>\n",
       "      <td>20.25</td>\n",
       "      <td>Abbott, Mrs. Stanton (Rosa Hunt)</td>\n",
       "      <td>1</td>\n",
       "      <td>280</td>\n",
       "      <td>3</td>\n",
       "      <td>female</td>\n",
       "      <td>1</td>\n",
       "      <td>1.0</td>\n",
       "      <td>C.A. 2673</td>\n",
       "      <td>(31.0, 36.0]</td>\n",
       "      <td>0</td>\n",
       "    </tr>\n",
       "    <tr>\n",
       "      <th>747</th>\n",
       "      <td>16.0</td>\n",
       "      <td>NaN</td>\n",
       "      <td>S</td>\n",
       "      <td>20.25</td>\n",
       "      <td>Abbott, Mr. Rossmore Edward</td>\n",
       "      <td>1</td>\n",
       "      <td>747</td>\n",
       "      <td>3</td>\n",
       "      <td>male</td>\n",
       "      <td>1</td>\n",
       "      <td>0.0</td>\n",
       "      <td>C.A. 2673</td>\n",
       "      <td>(14.0, 19.0]</td>\n",
       "      <td>0</td>\n",
       "    </tr>\n",
       "    <tr>\n",
       "      <th>1284</th>\n",
       "      <td>13.0</td>\n",
       "      <td>NaN</td>\n",
       "      <td>S</td>\n",
       "      <td>20.25</td>\n",
       "      <td>Abbott, Master. Eugene Joseph</td>\n",
       "      <td>2</td>\n",
       "      <td>1284</td>\n",
       "      <td>3</td>\n",
       "      <td>male</td>\n",
       "      <td>0</td>\n",
       "      <td>NaN</td>\n",
       "      <td>C.A. 2673</td>\n",
       "      <td>(0.169, 14.0]</td>\n",
       "      <td>1</td>\n",
       "    </tr>\n",
       "  </tbody>\n",
       "</table>\n",
       "</div>"
      ],
      "text/plain": [
       "              Age Cabin Embarked   Fare                              Name  \\\n",
       "PassengerId                                                                 \n",
       "280          35.0   NaN        S  20.25  Abbott, Mrs. Stanton (Rosa Hunt)   \n",
       "747          16.0   NaN        S  20.25       Abbott, Mr. Rossmore Edward   \n",
       "1284         13.0   NaN        S  20.25     Abbott, Master. Eugene Joseph   \n",
       "\n",
       "             Parch  PassengerId  Pclass     Sex  SibSp  Survived     Ticket  \\\n",
       "PassengerId                                                                   \n",
       "280              1          280       3  female      1       1.0  C.A. 2673   \n",
       "747              1          747       3    male      1       0.0  C.A. 2673   \n",
       "1284             2         1284       3    male      0       NaN  C.A. 2673   \n",
       "\n",
       "              Age_quartile  Child  \n",
       "PassengerId                        \n",
       "280           (31.0, 36.0]      0  \n",
       "747           (14.0, 19.0]      0  \n",
       "1284         (0.169, 14.0]      1  "
      ]
     },
     "metadata": {},
     "output_type": "display_data"
    }
   ],
   "source": [
    "family = pd.DataFrame()\n",
    "\n",
    "# Parse Surname from Name\n",
    "family['Surname'] = full.Name.map(parse_surname)\n",
    "\n",
    "# Assign codes to surname for later grouping\n",
    "surname_count_dict = {}\n",
    "surname_code_dict = {}\n",
    "for i, name in enumerate(family['Surname'].unique()):\n",
    "    surname_count_dict[name] = sum(family['Surname']==name)\n",
    "    surname_code_dict[name] = i\n",
    "    \n",
    "family['SurnameCode'] = family['Surname'].map(surname_code_dict)\n",
    "family['SurnameSize'] = family['Surname'].map(surname_count_dict)\n",
    "family['FamilySize'] = 1 + full.Parch + full.SibSp # True Family Size \n",
    "\n",
    "# Examples with common surname\n",
    "display(full[family.Surname == 'Abbott'])"
   ]
  },
  {
   "cell_type": "code",
   "execution_count": 12,
   "metadata": {},
   "outputs": [
    {
     "data": {
      "text/html": [
       "<div>\n",
       "<style scoped>\n",
       "    .dataframe tbody tr th:only-of-type {\n",
       "        vertical-align: middle;\n",
       "    }\n",
       "\n",
       "    .dataframe tbody tr th {\n",
       "        vertical-align: top;\n",
       "    }\n",
       "\n",
       "    .dataframe thead th {\n",
       "        text-align: right;\n",
       "    }\n",
       "</style>\n",
       "<table border=\"1\" class=\"dataframe\">\n",
       "  <thead>\n",
       "    <tr style=\"text-align: right;\">\n",
       "      <th></th>\n",
       "      <th>Surname</th>\n",
       "      <th>SurnameCode</th>\n",
       "      <th>SurnameSize</th>\n",
       "      <th>FamilySize</th>\n",
       "    </tr>\n",
       "    <tr>\n",
       "      <th>PassengerId</th>\n",
       "      <th></th>\n",
       "      <th></th>\n",
       "      <th></th>\n",
       "      <th></th>\n",
       "    </tr>\n",
       "  </thead>\n",
       "  <tbody>\n",
       "    <tr>\n",
       "      <th>1305</th>\n",
       "      <td>Spector</td>\n",
       "      <td>869</td>\n",
       "      <td>1</td>\n",
       "      <td>1</td>\n",
       "    </tr>\n",
       "    <tr>\n",
       "      <th>1306</th>\n",
       "      <td>Ocana</td>\n",
       "      <td>870</td>\n",
       "      <td>1</td>\n",
       "      <td>1</td>\n",
       "    </tr>\n",
       "    <tr>\n",
       "      <th>1307</th>\n",
       "      <td>Saether</td>\n",
       "      <td>871</td>\n",
       "      <td>1</td>\n",
       "      <td>1</td>\n",
       "    </tr>\n",
       "    <tr>\n",
       "      <th>1308</th>\n",
       "      <td>Ware</td>\n",
       "      <td>816</td>\n",
       "      <td>4</td>\n",
       "      <td>1</td>\n",
       "    </tr>\n",
       "    <tr>\n",
       "      <th>1309</th>\n",
       "      <td>Peter</td>\n",
       "      <td>117</td>\n",
       "      <td>3</td>\n",
       "      <td>3</td>\n",
       "    </tr>\n",
       "  </tbody>\n",
       "</table>\n",
       "</div>"
      ],
      "text/plain": [
       "             Surname  SurnameCode  SurnameSize  FamilySize\n",
       "PassengerId                                               \n",
       "1305         Spector          869            1           1\n",
       "1306           Ocana          870            1           1\n",
       "1307         Saether          871            1           1\n",
       "1308            Ware          816            4           1\n",
       "1309           Peter          117            3           3"
      ]
     },
     "execution_count": 12,
     "metadata": {},
     "output_type": "execute_result"
    }
   ],
   "source": [
    "family.tail()"
   ]
  },
  {
   "cell_type": "code",
   "execution_count": 13,
   "metadata": {},
   "outputs": [],
   "source": [
    "def tick2fam_gen(df):\n",
    "    \"\"\"\n",
    "    Function to judge if passengers are likely to be in the same family.\n",
    "    Input: DataFrame with Passenger surname and ticket\n",
    "    Return: Code generated to specify different families\n",
    "    \"\"\"\n",
    "    # initialize ticket dict\n",
    "    dict_tick2fam = {'000000': 0}\n",
    "    fam_counter = 0\n",
    "        \n",
    "    for i in df.index:    \n",
    "        keys = list(dict_tick2fam.keys())\n",
    "        print(dict_tick2fam)\n",
    "        chk_key = df.loc[i, 'Ticket']\n",
    "        print(keys)\n",
    "        for key in keys:\n",
    "            if len(chk_key) == len(key): #if their tickets have high similarity\n",
    "                print('1')\n",
    "                if (chk_key[-4].isdigit()) & (key[-4].isdigit()):  # Python isdigit() 方法检测字符串是否只由数字组成。\n",
    "                    print('2')\n",
    "                    if (chk_key[:-2] == key[:-2]) & (np.abs(int(chk_key[-2:]) - int(key[-2:])) <= 10):\n",
    "                        dict_tick2fam[chk_key] = dict_tick2fam[key]\n",
    "                        print('dict_tick2fam[key]')\n",
    "                        print('oo:',dict_tick2fam)\n",
    "                        break\n",
    "                    \n",
    "            if key == keys[-1]:\n",
    "                fam_counter += 1\n",
    "                dict_tick2fam[chk_key] = str(fam_counter)  \n",
    "                \n",
    "    return dict_tick2fam"
   ]
  },
  {
   "cell_type": "code",
   "execution_count": 14,
   "metadata": {},
   "outputs": [
    {
     "ename": "NameError",
     "evalue": "name 'family_infer' is not defined",
     "output_type": "error",
     "traceback": [
      "\u001b[1;31m---------------------------------------------------------------------------\u001b[0m",
      "\u001b[1;31mNameError\u001b[0m                                 Traceback (most recent call last)",
      "\u001b[1;32m<ipython-input-14-495cf5f6d019>\u001b[0m in \u001b[0;36m<module>\u001b[1;34m()\u001b[0m\n\u001b[1;32m----> 1\u001b[1;33m \u001b[0mfamily_infer\u001b[0m\u001b[1;33m[\u001b[0m\u001b[0mfamily\u001b[0m\u001b[1;33m.\u001b[0m\u001b[0mSurname\u001b[0m \u001b[1;33m==\u001b[0m \u001b[1;34m'Smith'\u001b[0m\u001b[1;33m]\u001b[0m\u001b[1;33m\u001b[0m\u001b[0m\n\u001b[0m",
      "\u001b[1;31mNameError\u001b[0m: name 'family_infer' is not defined"
     ]
    }
   ],
   "source": [
    "family_infer[family.Surname == 'Smith']"
   ]
  },
  {
   "cell_type": "code",
   "execution_count": null,
   "metadata": {},
   "outputs": [],
   "source": [
    "# DF to provide a view for checking if function works properly\n",
    "family_infer = pd.concat([family, full[['Parch','SibSp','Age','Name','Pclass','Ticket','Embarked','Survived']]], axis = 1)\n",
    "\n",
    "# Single out Surnames with size > true family size (may have more than 1 family involved)\n",
    "chk_surname = family_infer[family['FamilySize'] < family['SurnameSize']].Surname.unique() # surnames to check\n",
    "# chk_surname2 = family_infer[family['FamilySize'] > family['SurnameSize']].Surname.unique() # unidentified fam\n",
    "\n",
    "# Regrouping Families according to Family Size and Ticket.\n",
    "family['SurnameAdj'] = family['Surname'] #new column for corrected family_group\n",
    "\n",
    "for s in chk_surname:\n",
    "    family_regroup = family_infer[family.Surname == s] #get family with specific surname\n",
    "    fam_code_dict = tick2fam_gen(family_regroup) #pass in df to get family codes within the same surname\n",
    "\n",
    "    for idx in family_regroup.index: #assign family code 1by1\n",
    "        curr_ticket = full.loc[idx].Ticket\n",
    "\n",
    "        if family_regroup.loc[idx].FamilySize == 1: #for passengers traveling alone\n",
    "            if family_regroup.Ticket.value_counts()[curr_ticket] > 1: #relatives that shares surname and ticket, which Parch and SibSp failed to record\n",
    "                family.loc[idx, 'SurnameAdj'] =  family.loc[idx].Surname + '-hidfam' + fam_code_dict[curr_ticket]\n",
    "            else: #single traveler\n",
    "                family.loc[idx, 'SurnameAdj'] =  family.loc[idx].Surname + '-single' + fam_code_dict[curr_ticket]\n",
    "        else: #families\n",
    "            family.loc[idx, 'SurnameAdj'] =  family.loc[idx].Surname + '-fam' + fam_code_dict[curr_ticket]\n",
    "\n",
    "display(family[family.Surname == 'Smith'])"
   ]
  },
  {
   "cell_type": "code",
   "execution_count": null,
   "metadata": {},
   "outputs": [],
   "source": [
    "# Assign codes to families\n",
    "Family_count_dict = {}\n",
    "Family_code_dict = {}\n",
    "for i, name in enumerate(family['SurnameAdj'].unique()):\n",
    "    surname_count_dict[name] = sum(family['SurnameAdj']==name) # count no. of member of the same fam\n",
    "    surname_code_dict[name] = i # fam code\n",
    "\n",
    "family['FamilyCode'] = family['SurnameAdj'].map(surname_code_dict)\n",
    "family['FamilySize'] = family['SurnameAdj'].map(surname_count_dict)\n",
    "\n",
    "print(f\"No. of Family Before Regrouping: {len(family.SurnameCode.unique())}\")\n",
    "print(f\"No. of Family After Regrouping: {len(family.FamilyCode.unique())}\")"
   ]
  },
  {
   "cell_type": "code",
   "execution_count": null,
   "metadata": {},
   "outputs": [],
   "source": [
    "# Identify Groups (Those holding the same ticket code, could be friends/family)\n",
    "group = pd.DataFrame(family[['FamilyCode','FamilySize']])\n",
    "\n",
    "ticket_count = {}\n",
    "ticket_code = {}\n",
    "for i,ticket in enumerate(full.Ticket.unique()):\n",
    "    ticket_count[ticket] = sum(full.Ticket == ticket)\n",
    "    ticket_code[ticket] = i\n",
    "\n",
    "group['Ticket_code'] = full.Ticket.map(ticket_code)\n",
    "group['Ticket_size'] = full.Ticket.map(ticket_count)\n",
    "\n",
    "print(f\"No. of Tickets Identified: {len(group['Ticket_code'].unique())}\")\n",
    "display(full[(full.Ticket == 'A/4 48871') |(full.Ticket == 'A/4 48873')])"
   ]
  },
  {
   "cell_type": "code",
   "execution_count": null,
   "metadata": {},
   "outputs": [],
   "source": [
    "def ChainCombineGroups(df, colA, colB):\n",
    "    '''\n",
    "    This function takes in 2 columns of labels and chain all items which share\n",
    "    the same labels within each of the 2 columns\n",
    "    input:\n",
    "    df - DataFrame\n",
    "    colA - Key for Col\n",
    "    colB - Key for Col  \n",
    "    output:\n",
    "    array of numeric grouping labels\n",
    "    '''\n",
    "    # make a copy of DFs for iteration\n",
    "    data = df.copy()\n",
    "    search_df = data.copy()\n",
    "    \n",
    "    group_count = 0\n",
    "\n",
    "    while not search_df.empty:\n",
    "\n",
    "        # Initiate pool and Select Reference item\n",
    "        pool = search_df.iloc[:1]\n",
    "        idx = pool.index\n",
    "\n",
    "        # Remove 1st item from searching df\n",
    "        search_df.drop(index = idx, inplace = True)\n",
    "\n",
    "        # Initialize Search\n",
    "        flag_init = 1\n",
    "        update = pd.DataFrame()\n",
    "\n",
    "        # While loop to exhausively search for commonalities, pool is updated until no more common features are found\n",
    "        while (flag_init or not update.empty):\n",
    "\n",
    "            flag_init = 0\n",
    "\n",
    "            # target labels to look for\n",
    "            pool_A_uniq = np.unique(pool[colA])\n",
    "            pool_B_uniq = np.unique(pool[colB])\n",
    "\n",
    "            for col in [colA,colB]:\n",
    "                idx = []\n",
    "\n",
    "                # get all indexs of items with the same label\n",
    "                for num in np.unique(pool[col]):\n",
    "                    idx.extend(search_df[search_df[col] == num].index)\n",
    "\n",
    "                # update pool\n",
    "                update = search_df.loc[idx]\n",
    "                pool = pd.concat([pool, update], axis = 0)\n",
    "\n",
    "                # remove item from searching df\n",
    "                search_df = search_df.drop(index = idx)\n",
    "\n",
    "            # assign group num\n",
    "            data.loc[pool.index, 'Group_'] = group_count\n",
    "\n",
    "        group_count += 1\n",
    "        \n",
    "    return np.array(data['Group_'].astype(int))"
   ]
  },
  {
   "cell_type": "code",
   "execution_count": null,
   "metadata": {},
   "outputs": [],
   "source": [
    "# Assign Final group no.\n",
    "group['Group_code'] = ChainCombineGroups(group, 'FamilyCode', 'Ticket_code')\n",
    "         \n",
    "print(f\"Family: {len(family.FamilyCode.unique())}\")\n",
    "print(f\"Group: {len(group.Ticket_code.unique())}\")\n",
    "print(f\"Combined: {len(group.Group_code.unique())}\")\n",
    "group.head()"
   ]
  },
  {
   "cell_type": "code",
   "execution_count": null,
   "metadata": {},
   "outputs": [],
   "source": [
    "print('An example of grouping the both friends and family under a same group.')\n",
    "display(pd.concat([full['Ticket'],family[['Surname','FamilyCode']],group[['Ticket_code','Group_code']]], axis = 1)[group['Group_code'] == 458])"
   ]
  },
  {
   "cell_type": "code",
   "execution_count": null,
   "metadata": {},
   "outputs": [],
   "source": [
    "# Getting the Group Size\n",
    "group_count={}\n",
    "group_code = group['Group_code'].unique()\n",
    "for code in group_code:\n",
    "    group_count[code] = sum(group.Group_code == code)\n",
    "group['Group_size'] = group.Group_code.map(group_count)"
   ]
  },
  {
   "cell_type": "code",
   "execution_count": null,
   "metadata": {},
   "outputs": [],
   "source": [
    "# Prepare the df by adding the Survived features\n",
    "group_corr_test = pd.concat([group, full.Survived, family[['SurnameCode','SurnameSize']]], axis = 1)"
   ]
  },
  {
   "cell_type": "code",
   "execution_count": null,
   "metadata": {},
   "outputs": [],
   "source": [
    "group_corr_test.head()"
   ]
  },
  {
   "cell_type": "code",
   "execution_count": null,
   "metadata": {},
   "outputs": [],
   "source": [
    "for param in [('SurnameCode','SurnameSize'),\n",
    "              ('FamilyCode','FamilySize'),\n",
    "              ('Ticket_code','Ticket_size'),\n",
    "              ('Group_code','Group_size')]: # keep group at last\n",
    "    \n",
    "    # No. of member survived in each group\n",
    "    n_member_survived_by_gp = group_corr_test.groupby(param[0]).Survived.sum()\n",
    "    \n",
    "    # No. of member survived in a particular group, discounting the passenger concerned\n",
    "    n_mem_survived = group_corr_test[param[0]].map(n_member_survived_by_gp)\n",
    "    n_mem_survived_adj = n_mem_survived - group_corr_test.Survived.apply(lambda x: 1 if x == 1 else 0)\n",
    "\n",
    "    # Same for the dead\n",
    "    n_member_dead_by_gp = group_corr_test.groupby(param[0]).Survived.count() - group_corr_test.groupby(param[0]).Survived.sum()\n",
    "    n_mem_dead  = group_corr_test[param[0]].map(n_member_dead_by_gp)\n",
    "    n_mem_dead_adj = n_mem_dead - group_corr_test.Survived.apply(lambda x: 1 if x == 0 else 0)\n",
    "\n",
    "    # How many people from that group that we do not have data on.\n",
    "    unknown_factor = (group_corr_test[param[1]] - n_mem_survived_adj - n_mem_dead_adj)/group_corr_test[param[1]]\n",
    "    confidence = 1 - unknown_factor\n",
    "\n",
    "    # Ratio of members survived in that group, ranging from -1 to 1, adjusted by the confidence weight\n",
    "    key = 'Confidence_member_survived'+'_'+param[0]\n",
    "    ratio = (1/group_corr_test[param[1]]) * (n_mem_survived_adj - n_mem_dead_adj)\n",
    "    group_corr_test[key] = confidence * ratio\n",
    "    \n",
    "    group['Ratio_member_survived'] = (1/group_corr_test[param[1]]) * (n_mem_survived_adj - n_mem_dead_adj)\n",
    "    group['Confidence_member_survived'] = confidence * ratio\n",
    "\n",
    "# Display Correlation\n",
    "plt.barh(group_corr_test.corr().Survived[-4:].index, group_corr_test.corr().Survived[-4:])\n",
    "plt.xlabel('Correlation with Survived');"
   ]
  },
  {
   "cell_type": "markdown",
   "metadata": {},
   "source": [
    "* 解析船票信息"
   ]
  },
  {
   "cell_type": "code",
   "execution_count": null,
   "metadata": {},
   "outputs": [],
   "source": [
    "def parse_ticket(str1):\n",
    "    m = re.search(r'(.*)(\\s\\d|\\s\\d{4,7}$)',str1)\n",
    "    s = re.search(r'[A-Z]+',str1)\n",
    "    if m:\n",
    "        str2 = m.group(1)\n",
    "        n =re.search(r'([A-Z]+)[^A-Z0-9]*([A-Z]+)*[^A-Z0-9]*([A-Z0-9]*)[^A-Z]*([A-Z]*)*',str2)\n",
    "        new_str = ''\n",
    "        if n:    \n",
    "            if n.group(1):\n",
    "                new_str+=n.group(1)\n",
    "                if n.group(2) or n.group(3):\n",
    "                    if n.group(2):\n",
    "                        new_str+=n.group(2)\n",
    "                    if n.group(3):\n",
    "                        new_str+=n.group(3)\n",
    "                        if n.group(4):\n",
    "                            new_str+=n.group(4)\n",
    "                            if n.group(5):\n",
    "                                new_str+=m.group(5)\n",
    "    elif s:\n",
    "        new_str = s.group(0)\n",
    "    else:\n",
    "        new_str = 'XXX'\n",
    "    return new_str"
   ]
  },
  {
   "cell_type": "code",
   "execution_count": null,
   "metadata": {},
   "outputs": [],
   "source": [
    "ticket = pd.DataFrame(full.Survived)\n",
    "\n",
    "ticket['Ticket'] = full.Ticket.map(parse_ticket)\n",
    "d = dict(zip(ticket.Ticket.value_counts().index, ticket.Ticket.value_counts()))\n",
    "ticket['Ticket_count'] = ticket['Ticket'].map(d)\n",
    "plt.figure(figsize = (12,6))\n",
    "sns.barplot(data = ticket[ticket['Ticket_count'] > 10], x = 'Ticket', y = 'Survived')\n",
    "plt.axhline(y=0.3838, color='k', linestyle='--');"
   ]
  },
  {
   "cell_type": "code",
   "execution_count": null,
   "metadata": {},
   "outputs": [],
   "source": [
    "ticket['A5'] = (ticket['Ticket'] == 'A5').astype(int)\n",
    "ticket['PC'] = (ticket['Ticket'] == 'PC').astype(int)"
   ]
  },
  {
   "cell_type": "markdown",
   "metadata": {},
   "source": [
    "* 解析票价"
   ]
  },
  {
   "cell_type": "code",
   "execution_count": null,
   "metadata": {},
   "outputs": [],
   "source": [
    "# Fare Adjustment\n",
    "full['Fare_adj'] = full.Fare/group.Ticket_size\n",
    "\n",
    "# Plot Fare Adjustment\n",
    "fig, axs = plt.subplots(2,figsize = (14,10))\n",
    "axs[0].hist(full.Fare[full.Fare.isna()!=True], bins=80);\n",
    "axs[0].set_title('Before Adjustment')\n",
    "axs[0].set_xlabel('Fare')\n",
    "axs[1].hist(full.Fare_adj[full.Fare_adj.isna()!=True], bins=80);\n",
    "axs[1].set_title('After Adjustment');\n",
    "axs[1].set_xlabel('Fare_adj');"
   ]
  },
  {
   "cell_type": "code",
   "execution_count": null,
   "metadata": {},
   "outputs": [],
   "source": [
    "# Handle missing Fare\n",
    "full[full.Fare.isnull()] #PassengerId 1044 has fare value missing\n",
    "fare_dict_nan = dict(full.groupby('Pclass').Fare_adj.mean())\n",
    "full.loc[full.Fare.isnull(),['Fare','Fare_adj']]= fare_dict_nan[3] # fill value according to PClass"
   ]
  },
  {
   "cell_type": "markdown",
   "metadata": {},
   "source": [
    "* 称谓预测年龄处理"
   ]
  },
  {
   "cell_type": "code",
   "execution_count": null,
   "metadata": {},
   "outputs": [],
   "source": [
    "# Parse Titles from Names\n",
    "title = pd.DataFrame()\n",
    "\n",
    "def parse_name(str):\n",
    "    m = re.search(', (\\w+ *\\w*)\\.',str)\n",
    "    return m.group(1)\n",
    "    \n",
    "title['Title'] = full.Name.map(parse_name)\n",
    "title.Title.unique()"
   ]
  },
  {
   "cell_type": "code",
   "execution_count": null,
   "metadata": {},
   "outputs": [],
   "source": [
    "# Simplify title groups\n",
    "Title_Dictionary = {\"Capt\":       \"Officer\",\n",
    "                    \"Col\":        \"Officer\",\n",
    "                    \"Major\":      \"Officer\",\n",
    "                    \"Jonkheer\":   \"Royalty\",\n",
    "                    \"Don\":        \"Royalty\",\n",
    "                    \"Sir\" :       \"Royalty\",\n",
    "                    \"Dr\":         \"Officer\",\n",
    "                    \"Rev\":        \"Officer\",\n",
    "                    \"the Countess\":\"Royalty\",\n",
    "                    \"Dona\":       \"Royalty\",\n",
    "                    \"Mme\":        \"Mrs\",\n",
    "                    \"Mlle\":       \"Miss\",\n",
    "                    \"Ms\":         \"Mrs\",\n",
    "                    \"Mr\" :        \"Mr\",\n",
    "                    \"Mrs\" :       \"Mrs\",\n",
    "                    \"Miss\" :      \"Miss\",\n",
    "                    \"Master\" :    \"Master\",\n",
    "                    \"Lady\" :      \"Royalty\"\n",
    "                    }\n",
    "\n",
    "title.Title = title.Title.map(Title_Dictionary)"
   ]
  },
  {
   "cell_type": "code",
   "execution_count": null,
   "metadata": {},
   "outputs": [],
   "source": [
    "# Plot the distribution of Age by Title\n",
    "title = title.join(full.Age)\n",
    "# display(title.groupby('Title').describe());\n",
    "plt.figure(figsize = (14,6))\n",
    "sns.violinplot(data = title, x = 'Title', y = 'Age');"
   ]
  },
  {
   "cell_type": "code",
   "execution_count": null,
   "metadata": {},
   "outputs": [],
   "source": [
    "title_age_dict = {}\n",
    "\n",
    "# Calculate mean age of each title group\n",
    "for t in title.Title.unique():\n",
    "    title_age_dict[t] = title[title.Title == t].Age.mean() \n",
    "\n",
    "# Fill in Age according to passenger's title\n",
    "idx = full.Age.isnull()\n",
    "full['Age_infer'] = full['Age']\n",
    "full.loc[idx, 'Age_infer'] = title.loc[idx].Title.map(title_age_dict)\n",
    "full['Child'] = (full['Age_infer'] <= 14).astype(int)"
   ]
  },
  {
   "cell_type": "markdown",
   "metadata": {},
   "source": [
    "* 归一化:最大最小值标准化"
   ]
  },
  {
   "cell_type": "code",
   "execution_count": null,
   "metadata": {},
   "outputs": [],
   "source": [
    "from sklearn.preprocessing import MinMaxScaler # 归一化:最大最小值标准化\n",
    "\n",
    "# Select features as predictors\n",
    "features = pd.concat([full[['Pclass','Sex','Child','Fare_adj','Parch','SibSp']],\n",
    "                      group[['Group_size','Confidence_member_survived']],\n",
    "                      title['Title'],\n",
    "                      ticket[['A5','PC']]], axis = 1)\n",
    "\n",
    "# MinMax Transform the continuous variables\n",
    "scalar = MinMaxScaler()\n",
    "\n",
    "continuous = ['Fare_adj','Group_size']\n",
    "features_minmax_transformed = pd.DataFrame(data = features)\n",
    "features_minmax_transformed[continuous] = scalar.fit_transform(features_minmax_transformed[continuous])\n",
    "\n",
    "# Transform Sex labels into binary code\n",
    "features_minmax_transformed.Sex = features_minmax_transformed.Sex.apply(lambda x: 1 if x == 'male' else 0)\n",
    "\n",
    "# One-hot Encoding\n",
    "features_final = pd.get_dummies(features_minmax_transformed)\n",
    "\n",
    "encoded = list(features_final.columns)\n",
    "print(\"{} total features after one-hot encoding.\".format(len(encoded)))\n",
    "\n",
    "# Seperate Train Data and Test Data\n",
    "features_final_train = features_final[:891]\n",
    "features_final_test = features_final[891:]"
   ]
  },
  {
   "cell_type": "markdown",
   "metadata": {},
   "source": [
    "* 数据分割"
   ]
  },
  {
   "cell_type": "code",
   "execution_count": null,
   "metadata": {},
   "outputs": [],
   "source": [
    "# Spliting Training Sets into Train and Cross-validation sets\n",
    "from sklearn.model_selection import train_test_split, StratifiedShuffleSplit\n",
    "\n",
    "X_train, X_test, y_train, y_test = train_test_split(features_final_train, \n",
    "                                                    train.Survived, \n",
    "                                                    test_size = 0.2, \n",
    "                                                    random_state = 0)"
   ]
  },
  {
   "cell_type": "markdown",
   "metadata": {},
   "source": [
    "# [数据保存](http://localhost:8888/notebooks/Data/My_Road/%E6%95%B0%E6%8D%AE%E4%BF%9D%E5%AD%98.ipynb)"
   ]
  },
  {
   "cell_type": "markdown",
   "metadata": {},
   "source": [
    "# [模型选择](http://localhost:8888/notebooks/Data/%E6%9C%BA%E5%99%A8%E5%AD%A6%E4%B9%A0%E7%B1%BB%E5%88%AB/%E6%9C%BA%E5%99%A8%E5%AD%A6%E4%B9%A0%E7%B1%BB%E5%88%AB.ipynb)"
   ]
  },
  {
   "cell_type": "markdown",
   "metadata": {},
   "source": [
    "* 选择评分函数"
   ]
  },
  {
   "cell_type": "code",
   "execution_count": null,
   "metadata": {},
   "outputs": [],
   "source": [
    "# Create Model Training Pipeline\n",
    "from sklearn.metrics import accuracy_score\n",
    "from time import time\n",
    "\n",
    "def train_predict(learner, sample_size, X_train, y_train, X_test, y_test): \n",
    "    '''\n",
    "    inputs:\n",
    "       - learner: the learning algorithm to be trained and predicted on\n",
    "       - sample_size: the size of samples (number) to be drawn from training set\n",
    "       - X_train: features training set\n",
    "       - y_train: income training set\n",
    "       - X_test: features testing set\n",
    "       - y_test: income testing set\n",
    "    '''\n",
    "    \n",
    "    results = {}\n",
    "    \n",
    "    # Fit the learner to the training data using slicing with 'sample_size' using .fit(training_features[:], training_labels[:])\n",
    "    learner = learner.fit(X_train[:sample_size], y_train[:sample_size])\n",
    "    \n",
    "    # Get the predictions on the test set(X_test),\n",
    "    predictions_test = learner.predict(X_test)\n",
    "    \n",
    "    # then get predictions on the training samples(X_train)\n",
    "    predictions_train = learner.predict(X_train)\n",
    "            \n",
    "    # Compute accuracy on the training samples\n",
    "    results['acc_train'] = accuracy_score(y_train, predictions_train)\n",
    "        \n",
    "    # Compute accuracy on test set using accuracy_score()\n",
    "    results['acc_test'] = accuracy_score(y_test, predictions_test)\n",
    "       \n",
    "    # Success\n",
    "    print(\"{} trained on {} samples. Acc: {:.4f}\".format(learner.__class__.__name__, sample_size, results['acc_test']))\n",
    "        \n",
    "    # Return the results\n",
    "    return results"
   ]
  },
  {
   "cell_type": "markdown",
   "metadata": {},
   "source": [
    "* 多模型预测"
   ]
  },
  {
   "cell_type": "code",
   "execution_count": null,
   "metadata": {},
   "outputs": [],
   "source": [
    "# Import the three supervised learning models from sklearn\n",
    "from sklearn.linear_model import LogisticRegression\n",
    "from sklearn.ensemble import AdaBoostClassifier, GradientBoostingClassifier,RandomForestClassifier\n",
    "\n",
    "# Initialize the three models\n",
    "clf_A = GradientBoostingClassifier(random_state = 0)\n",
    "clf_B = LogisticRegression(random_state= 0)\n",
    "clf_C = RandomForestClassifier(random_state= 0)\n",
    "\n",
    "# Calculate the number of samples for 10%, 50%, and 100% of the training data\n",
    "samples_100 = len(y_train)\n",
    "samples_10 = int(len(y_train)/2)\n",
    "samples_1 = int(len(y_train)/10)\n",
    "\n",
    "# Collect results on the learners\n",
    "results = {}\n",
    "for clf in [clf_A, clf_B, clf_C]:\n",
    "    clf_name = clf.__class__.__name__\n",
    "    results[clf_name] = {}\n",
    "    for i, samples in enumerate([samples_1, samples_10, samples_100]):\n",
    "        results[clf_name][i] = \\\n",
    "        train_predict(clf, samples, X_train, y_train, X_test, y_test)"
   ]
  },
  {
   "cell_type": "markdown",
   "metadata": {},
   "source": [
    "# [性能评估](http://localhost:8888/notebooks/Data/My_Road/%E6%80%A7%E8%83%BD%E8%AF%84%E4%BC%B0.ipynb)"
   ]
  },
  {
   "cell_type": "code",
   "execution_count": null,
   "metadata": {},
   "outputs": [],
   "source": [
    "# Reshaping the Results for plotting\n",
    "df = pd.DataFrame()\n",
    "\n",
    "for i in results.items():\n",
    "    temp = pd.DataFrame(i[1]).rename(columns={0:'1% of train', 1:'10% of train', 2:'100% of train'})\n",
    "    temp['model'] = i[0]\n",
    "    df = pd.concat([df, temp], axis = 0)\n",
    "df_plot = df.reset_index().melt(id_vars=['index','model'])\n",
    "\n",
    "# Ploting the results\n",
    "fig, axs = plt.subplots(1,2,figsize = (14,4))\n",
    "for i,key in enumerate(df_plot['index'].unique()[:2]):\n",
    "    ax = axs[i%2]\n",
    "    sns.barplot(data = df_plot[df_plot['index'] == key], x = 'model', y = 'value',\n",
    "                hue = 'variable', ax = ax)\n",
    "    ax.set_ylim([0,1])\n",
    "    ax.set_title(key)\n",
    "    ax.legend(ncol=3, loc=\"lower right\", frameon=True, fontsize = 'small')"
   ]
  },
  {
   "cell_type": "markdown",
   "metadata": {},
   "source": [
    "# [模型优化](http://localhost:8888/notebooks/Data/My_Road/%E6%A8%A1%E5%9E%8B%E4%BC%98%E5%8C%96.ipynb)"
   ]
  },
  {
   "cell_type": "code",
   "execution_count": null,
   "metadata": {},
   "outputs": [],
   "source": [
    "from sklearn.grid_search import GridSearchCV\n",
    "from sklearn.metrics import make_scorer\n",
    "\n",
    "clf = RandomForestClassifier(random_state = 0, oob_score = True)\n",
    "\n",
    "parameters = {'criterion' :['gini'],\n",
    "             'n_estimators' : [400], #[100,200,400]\n",
    "             'max_depth':[6], #[3,4,5,6]\n",
    "             'min_samples_leaf': [5], # [2,4,6]\n",
    "              'max_leaf_nodes': [10], # [8,10,12]\n",
    "              'min_impurity_decrease': [0], # [0,0.001,0.005]\n",
    "              'max_features' : [1] # [1,2,3]\n",
    "             }\n",
    "\n",
    "scorer = make_scorer(accuracy_score)\n",
    "\n",
    "grid_obj = GridSearchCV(clf, parameters, scoring = scorer, cv = 10)\n",
    "\n",
    "grid_fit = grid_obj.fit(X_train,y_train)\n",
    "\n",
    "best_clf = grid_fit.best_estimator_\n",
    "\n",
    "predictions = (clf.fit(X_train, y_train)).predict(X_test)\n",
    "best_predictions = best_clf.predict(X_test)\n",
    "\n",
    "print(\"Unoptimized model\\n------\")\n",
    "print(\"Accuracy score on testing data: {:.4f}\".format(accuracy_score(y_test, predictions)))\n",
    "print(\"Oob score on testing data: {:.4f}\".format(clf.oob_score_))\n",
    "print(\"\\nOptimized Model\\n------\")\n",
    "print(\"Final accuracy score on the testing data: {:.4f}\".format(accuracy_score(y_test, best_predictions)))\n",
    "print(\"Final oob score on the testing data: {:.4f}\".format(best_clf.oob_score_))\n",
    "print(\"\\nBest Parameters\\n------\")\n",
    "best_clf"
   ]
  },
  {
   "cell_type": "code",
   "execution_count": null,
   "metadata": {
    "scrolled": true
   },
   "outputs": [],
   "source": [
    "# Plot Feature Importnace\n",
    "idx = np.argsort(best_clf.feature_importances_)\n",
    "plt.figure(figsize = (12,8))\n",
    "plt.barh(range(len(best_clf.feature_importances_)),best_clf.feature_importances_[idx])\n",
    "plt.yticks(range(len(best_clf.feature_importances_)),features_final_train.columns[idx]);\n",
    "plt.title('Feature Importance');"
   ]
  },
  {
   "cell_type": "markdown",
   "metadata": {},
   "source": [
    "# [模型使用](http://localhost:8888/notebooks/Data/My_Road/%E6%A8%A1%E5%9E%8B%E4%BD%BF%E7%94%A8.ipynb)"
   ]
  },
  {
   "cell_type": "code",
   "execution_count": null,
   "metadata": {},
   "outputs": [],
   "source": [
    "# Output for Kaggle competition\n",
    "final_predict = best_clf.predict(features_final_test)\n",
    "\n",
    "prediction = pd.DataFrame(full[891:].PassengerId)\n",
    "prediction['Survived'] = final_predict.astype('int')\n",
    "\n",
    "prediction.to_csv('predict.csv',index = False)"
   ]
  }
 ],
 "metadata": {
  "kernelspec": {
   "display_name": "Python 3",
   "language": "python",
   "name": "python3"
  },
  "language_info": {
   "codemirror_mode": {
    "name": "ipython",
    "version": 3
   },
   "file_extension": ".py",
   "mimetype": "text/x-python",
   "name": "python",
   "nbconvert_exporter": "python",
   "pygments_lexer": "ipython3",
   "version": "3.6.4"
  },
  "toc": {
   "base_numbering": 1,
   "nav_menu": {},
   "number_sections": true,
   "sideBar": true,
   "skip_h1_title": false,
   "title_cell": "Table of Contents",
   "title_sidebar": "Contents",
   "toc_cell": false,
   "toc_position": {
    "height": "calc(100% - 180px)",
    "left": "10px",
    "top": "150px",
    "width": "376px"
   },
   "toc_section_display": true,
   "toc_window_display": true
  }
 },
 "nbformat": 4,
 "nbformat_minor": 2
}
